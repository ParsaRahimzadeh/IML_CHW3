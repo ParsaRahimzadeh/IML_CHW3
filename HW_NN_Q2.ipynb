{
  "cells": [
    {
      "cell_type": "markdown",
      "metadata": {
        "id": "view-in-github",
        "colab_type": "text"
      },
      "source": [
        "<a href=\"https://colab.research.google.com/github/ParsaRahimzadeh/IML_CHW3/blob/main/HW_NN_Q2.ipynb\" target=\"_parent\"><img src=\"https://colab.research.google.com/assets/colab-badge.svg\" alt=\"Open In Colab\"/></a>"
      ]
    },
    {
      "cell_type": "markdown",
      "metadata": {
        "id": "9779e5d5"
      },
      "source": [
        "<div align=center>\n",
        "\n",
        "<font size=5>\n",
        "    In the Name of God\n",
        "<font/>\n",
        "<br/>\n",
        "<br/>\n",
        "<font>\n",
        "    Sharif University of Technology - Departmenet of Electrical Engineering\n",
        "</font>\n",
        "<br/>\n",
        "<font>\n",
        "    Introducing with Machine Learing - Dr. S. Amini\n",
        "</font>\n",
        "<br/>\n",
        "<br/>\n",
        "Spring 2023\n",
        "\n",
        "</div>\n",
        "\n",
        "<hr/>\n",
        "<div align=center>\n",
        "<font size=6>\n",
        "    Neural Networks Practical Assignment\n",
        "    \n",
        "    Question 2\n",
        "</font>\n",
        "<br/>\t\t\n",
        "<font size=4>\n",
        "<br/>\n",
        "</div>"
      ],
      "id": "9779e5d5"
    },
    {
      "cell_type": "markdown",
      "metadata": {
        "id": "1d55ee53"
      },
      "source": [
        "# Personal Data"
      ],
      "id": "1d55ee53"
    },
    {
      "cell_type": "code",
      "execution_count": null,
      "metadata": {
        "id": "40e950d8"
      },
      "outputs": [],
      "source": [
        "# Set your student number\n",
        "student_number = 99108115\n",
        "Name = 'Parsa'\n",
        "Last_Name = 'Rahimzadeh'"
      ],
      "id": "40e950d8"
    },
    {
      "cell_type": "markdown",
      "metadata": {
        "id": "2edb1e44"
      },
      "source": [
        "# Rules\n",
        "- You are not allowed to add or remove cells. You **must use the provided space to write your code**. If you don't follow this rule, **your Practical Assignment won't be graded**.  \n",
        "\n",
        "- Collaboration and using the internet is allowed, but your code **must be written by yourself**. **Copying code** from each other or from available resources will result in a **zero score for the assignment**.\n",
        "\n",
        "- In this question, you are allowed to use `torch.optim`, `torch.nn` or any other submodule you need.\n",
        "- You **are not allowed** to use the models already implemented or the pretrained models in torch. "
      ],
      "id": "2edb1e44"
    },
    {
      "cell_type": "code",
      "execution_count": null,
      "metadata": {
        "id": "7a15a195"
      },
      "outputs": [],
      "source": [
        "!pip install numpy\n",
        "!pip install matplotlib\n",
        "!pip install torchvision\n",
        "!pip install torch"
      ],
      "id": "7a15a195"
    },
    {
      "cell_type": "markdown",
      "metadata": {
        "id": "85c3b02e"
      },
      "source": [
        "## Importing Libraries"
      ],
      "id": "85c3b02e"
    },
    {
      "cell_type": "code",
      "execution_count": null,
      "metadata": {
        "id": "b6246005"
      },
      "outputs": [],
      "source": [
        "import torch\n",
        "from torchvision.datasets import CIFAR10\n",
        "from torchvision import transforms\n",
        "from torch.utils.data import DataLoader\n",
        "\n",
        "import numpy as np\n",
        "from matplotlib import pyplot as plt\n",
        "from typing import Dict"
      ],
      "id": "b6246005"
    },
    {
      "cell_type": "markdown",
      "metadata": {
        "id": "2c89754b"
      },
      "source": [
        "## Datasets and Dataloaders\n",
        "\n",
        "You should load the train and test set of the `CIFAR10` dataset and apply the desired transforms on it. Then, you should create the loaders for these `test` and `train` sets.\n",
        "- **Hint:** You can use `torchvision.datasets` to easily load the CIFAR10 dataset."
      ],
      "id": "2c89754b"
    },
    {
      "cell_type": "code",
      "execution_count": null,
      "metadata": {
        "colab": {
          "base_uri": "https://localhost:8080/"
        },
        "id": "40e10458",
        "outputId": "cacbd99f-e2bb-42b5-d8f1-e858b2a323de"
      },
      "outputs": [
        {
          "output_type": "stream",
          "name": "stdout",
          "text": [
            "Files already downloaded and verified\n",
            "Files already downloaded and verified\n"
          ]
        }
      ],
      "source": [
        "## FILL HERE\n",
        "transform = transforms.Compose([\n",
        "    transforms.ToTensor()\n",
        "    ])\n",
        "\n",
        "# Download Dataset\n",
        "train_set = CIFAR10(root='.', train=True, download=True, transform=transform)\n",
        "test_set = CIFAR10(root='.', train=False, download=True, transform=transform)\n",
        "\n",
        "# DataLoader\n",
        "trainloader = DataLoader(train_set, 4, shuffle=True)\n",
        "testloader = DataLoader(test_set, 4, shuffle=True)\n",
        "\n",
        "# Classes\n",
        "classes = ('plane','car','bird','cat','deer','dog','frog','horse','ship','truck')"
      ],
      "id": "40e10458"
    },
    {
      "cell_type": "markdown",
      "metadata": {
        "id": "ee9a3be8"
      },
      "source": [
        "## Visualization\n",
        "\n",
        "Visualize 1 random image from each class\n"
      ],
      "id": "ee9a3be8"
    },
    {
      "cell_type": "code",
      "execution_count": null,
      "metadata": {
        "colab": {
          "base_uri": "https://localhost:8080/",
          "height": 193
        },
        "id": "a1b039d1",
        "outputId": "1ff1bbee-5575-4c41-de2a-49c41b036749"
      },
      "outputs": [
        {
          "output_type": "display_data",
          "data": {
            "text/plain": [
              "<Figure size 640x480 with 1 Axes>"
            ],
            "image/png": "[encoded data removed]"
          },
          "metadata": {}
        }
      ],
      "source": [
        "## FILL HERE\n",
        "import torchvision\n",
        "def image_show(image):                 # I learned this function from the video that sent in channel\n",
        "  npimage = image.numpy()\n",
        "  plt.imshow(np.transpose(npimage,(1, 2, 0)))\n",
        "  plt.show()\n",
        "\n",
        "dataiter = iter(trainloader)\n",
        "images, labels = next(dataiter)\n",
        "image_grid = torchvision.utils.make_grid(images[0:25],nrow = 5)\n",
        "image_show(image_grid)"
      ],
      "id": "a1b039d1"
    },
    {
      "cell_type": "markdown",
      "metadata": {
        "id": "1221642e"
      },
      "source": [
        "## Defining a Convolutional Neural Network\n",
        "\n",
        "In this section, you should define a class called `Net` which represents the model for your convolutional neural network.\n",
        "- **Hint:** You can use `torch.nn` to add the required layers to your model."
      ],
      "id": "1221642e"
    },
    {
      "cell_type": "code",
      "execution_count": null,
      "metadata": {
        "id": "0ba6a266"
      },
      "outputs": [],
      "source": [
        "import torch.nn as nn\n",
        "import torch.nn.functional as F\n",
        "\n",
        "\n",
        "class Net(nn.Module):\n",
        "    def __init__(self):\n",
        "        super().__init__()\n",
        "        ## FILL HERE\n",
        "        self.conv1 = nn.Conv2d(3, 24, 3)     # -> 24, 30, 30\n",
        "        self.pool = nn.MaxPool2d(2,2)        # -> 24, 15, 15\n",
        "        self.conv2 = nn.Conv2d(24, 72, 3)    # -> 72, 13, 13\n",
        "        self.pool = nn.MaxPool2d(2,2)        # -> 72, 6, 6\n",
        "        self.conv3 = nn.Conv2d(72,144,3)     # -> 144, 4, 4\n",
        "        self.fc1 = nn.Linear(144*4*4, 256)     \n",
        "        self.fc2 = nn.Linear(256, 10)\n",
        "\n",
        "    def forward(self, x):\n",
        "        x = F.relu(self.conv1(x))\n",
        "        #print(x.shape)\n",
        "        x = self.pool(x)\n",
        "        #print(x.shape)\n",
        "        x = F.relu(self.conv2(x))\n",
        "        #print(x.shape)\n",
        "        x = self.pool(x)\n",
        "        #print(x.shape)\n",
        "        x = F.relu(self.conv3(x))\n",
        "        x = torch.flatten(x,1)                       \n",
        "        x = F.relu(self.fc1(x))              \n",
        "        x = F.relu(self.fc2(x))              \n",
        "        return x\n",
        "\n",
        "net = Net()"
      ],
      "id": "0ba6a266"
    },
    {
      "cell_type": "markdown",
      "metadata": {
        "id": "e3c27c9f"
      },
      "source": [
        "## Define a Loss function and optimizer"
      ],
      "id": "e3c27c9f"
    },
    {
      "cell_type": "markdown",
      "metadata": {
        "id": "a8f1eadd"
      },
      "source": [
        "In this section, you simply define your loss function and optimizer.\n",
        "- **Hint:** You can use `torch.optim` and implemented loss functions in torch."
      ],
      "id": "a8f1eadd"
    },
    {
      "cell_type": "code",
      "execution_count": null,
      "metadata": {
        "id": "79068600"
      },
      "outputs": [],
      "source": [
        "## FILL HERE\n",
        "learnRate = 0.0005\n",
        "loss_function = nn.CrossEntropyLoss()\n",
        "optimizer = torch.optim.SGD(net.parameters(),lr=learnRate)"
      ],
      "id": "79068600"
    },
    {
      "cell_type": "markdown",
      "metadata": {
        "id": "b526ee28"
      },
      "source": [
        "## Training the model\n",
        "\n",
        "You should train your model for multiple epochs. You are free to choose the number of epochs. However, you should reach an acceptable accuracy at the end."
      ],
      "id": "b526ee28"
    },
    {
      "cell_type": "code",
      "execution_count": null,
      "metadata": {
        "colab": {
          "base_uri": "https://localhost:8080/"
        },
        "id": "fbf5c8d2",
        "outputId": "0d5f72e5-d1e7-43f9-c340-42f8400efd48"
      },
      "outputs": [
        {
          "output_type": "stream",
          "name": "stdout",
          "text": [
            "Epoch = 0 , step = 1000, Loss = 0.159\n",
            "Epoch = 0 , step = 2000, Loss = 0.316\n",
            "Epoch = 0 , step = 3000, Loss = 0.473\n",
            "Epoch = 0 , step = 4000, Loss = 0.629\n",
            "Epoch = 0 , step = 5000, Loss = 0.784\n",
            "Epoch = 0 , step = 6000, Loss = 0.940\n",
            "Epoch = 0 , step = 7000, Loss = 1.094\n",
            "Epoch = 0 , step = 8000, Loss = 1.249\n",
            "Epoch = 0 , step = 9000, Loss = 1.403\n",
            "Epoch = 0 , step = 10000, Loss = 1.557\n",
            "Epoch = 0 , step = 11000, Loss = 1.710\n",
            "Epoch = 0 , step = 12000, Loss = 1.863\n",
            "Epoch = 1 , step = 1000, Loss = 0.153\n",
            "Epoch = 1 , step = 2000, Loss = 0.304\n",
            "Epoch = 1 , step = 3000, Loss = 0.458\n",
            "Epoch = 1 , step = 4000, Loss = 0.612\n",
            "Epoch = 1 , step = 5000, Loss = 0.765\n",
            "Epoch = 1 , step = 6000, Loss = 0.913\n",
            "Epoch = 1 , step = 7000, Loss = 1.063\n",
            "Epoch = 1 , step = 8000, Loss = 1.212\n",
            "Epoch = 1 , step = 9000, Loss = 1.362\n",
            "Epoch = 1 , step = 10000, Loss = 1.512\n",
            "Epoch = 1 , step = 11000, Loss = 1.661\n",
            "Epoch = 1 , step = 12000, Loss = 1.808\n",
            "Epoch = 2 , step = 1000, Loss = 0.147\n",
            "Epoch = 2 , step = 2000, Loss = 0.295\n",
            "Epoch = 2 , step = 3000, Loss = 0.442\n",
            "Epoch = 2 , step = 4000, Loss = 0.589\n",
            "Epoch = 2 , step = 5000, Loss = 0.738\n",
            "Epoch = 2 , step = 6000, Loss = 0.885\n",
            "Epoch = 2 , step = 7000, Loss = 1.034\n",
            "Epoch = 2 , step = 8000, Loss = 1.180\n",
            "Epoch = 2 , step = 9000, Loss = 1.327\n",
            "Epoch = 2 , step = 10000, Loss = 1.474\n",
            "Epoch = 2 , step = 11000, Loss = 1.618\n",
            "Epoch = 2 , step = 12000, Loss = 1.763\n",
            "Epoch = 3 , step = 1000, Loss = 0.146\n",
            "Epoch = 3 , step = 2000, Loss = 0.290\n",
            "Epoch = 3 , step = 3000, Loss = 0.435\n",
            "Epoch = 3 , step = 4000, Loss = 0.579\n",
            "Epoch = 3 , step = 5000, Loss = 0.724\n",
            "Epoch = 3 , step = 6000, Loss = 0.869\n",
            "Epoch = 3 , step = 7000, Loss = 1.015\n",
            "Epoch = 3 , step = 8000, Loss = 1.159\n",
            "Epoch = 3 , step = 9000, Loss = 1.301\n",
            "Epoch = 3 , step = 10000, Loss = 1.444\n",
            "Epoch = 3 , step = 11000, Loss = 1.586\n",
            "Epoch = 3 , step = 12000, Loss = 1.728\n",
            "Epoch = 4 , step = 1000, Loss = 0.142\n",
            "Epoch = 4 , step = 2000, Loss = 0.283\n",
            "Epoch = 4 , step = 3000, Loss = 0.424\n",
            "Epoch = 4 , step = 4000, Loss = 0.565\n",
            "Epoch = 4 , step = 5000, Loss = 0.707\n",
            "Epoch = 4 , step = 6000, Loss = 0.848\n",
            "Epoch = 4 , step = 7000, Loss = 0.990\n",
            "Epoch = 4 , step = 8000, Loss = 1.131\n",
            "Epoch = 4 , step = 9000, Loss = 1.272\n",
            "Epoch = 4 , step = 10000, Loss = 1.414\n",
            "Epoch = 4 , step = 11000, Loss = 1.554\n",
            "Epoch = 4 , step = 12000, Loss = 1.697\n",
            "Epoch = 5 , step = 1000, Loss = 0.139\n",
            "Epoch = 5 , step = 2000, Loss = 0.282\n",
            "Epoch = 5 , step = 3000, Loss = 0.421\n",
            "Epoch = 5 , step = 4000, Loss = 0.560\n",
            "Epoch = 5 , step = 5000, Loss = 0.700\n",
            "Epoch = 5 , step = 6000, Loss = 0.838\n",
            "Epoch = 5 , step = 7000, Loss = 0.976\n",
            "Epoch = 5 , step = 8000, Loss = 1.114\n",
            "Epoch = 5 , step = 9000, Loss = 1.249\n",
            "Epoch = 5 , step = 10000, Loss = 1.382\n",
            "Epoch = 5 , step = 11000, Loss = 1.514\n",
            "Epoch = 5 , step = 12000, Loss = 1.647\n",
            "Epoch = 6 , step = 1000, Loss = 0.130\n",
            "Epoch = 6 , step = 2000, Loss = 0.263\n",
            "Epoch = 6 , step = 3000, Loss = 0.394\n",
            "Epoch = 6 , step = 4000, Loss = 0.526\n",
            "Epoch = 6 , step = 5000, Loss = 0.657\n",
            "Epoch = 6 , step = 6000, Loss = 0.789\n",
            "Epoch = 6 , step = 7000, Loss = 0.918\n",
            "Epoch = 6 , step = 8000, Loss = 1.048\n",
            "Epoch = 6 , step = 9000, Loss = 1.178\n",
            "Epoch = 6 , step = 10000, Loss = 1.307\n",
            "Epoch = 6 , step = 11000, Loss = 1.436\n",
            "Epoch = 6 , step = 12000, Loss = 1.566\n",
            "Epoch = 7 , step = 1000, Loss = 0.128\n",
            "Epoch = 7 , step = 2000, Loss = 0.256\n",
            "Epoch = 7 , step = 3000, Loss = 0.384\n",
            "Epoch = 7 , step = 4000, Loss = 0.512\n",
            "Epoch = 7 , step = 5000, Loss = 0.640\n",
            "Epoch = 7 , step = 6000, Loss = 0.768\n",
            "Epoch = 7 , step = 7000, Loss = 0.894\n",
            "Epoch = 7 , step = 8000, Loss = 1.020\n",
            "Epoch = 7 , step = 9000, Loss = 1.148\n",
            "Epoch = 7 , step = 10000, Loss = 1.275\n",
            "Epoch = 7 , step = 11000, Loss = 1.402\n",
            "Epoch = 7 , step = 12000, Loss = 1.529\n",
            "Epoch = 8 , step = 1000, Loss = 0.126\n",
            "Epoch = 8 , step = 2000, Loss = 0.249\n",
            "Epoch = 8 , step = 3000, Loss = 0.372\n",
            "Epoch = 8 , step = 4000, Loss = 0.497\n",
            "Epoch = 8 , step = 5000, Loss = 0.625\n",
            "Epoch = 8 , step = 6000, Loss = 0.750\n",
            "Epoch = 8 , step = 7000, Loss = 0.875\n",
            "Epoch = 8 , step = 8000, Loss = 0.997\n",
            "Epoch = 8 , step = 9000, Loss = 1.123\n",
            "Epoch = 8 , step = 10000, Loss = 1.245\n",
            "Epoch = 8 , step = 11000, Loss = 1.369\n",
            "Epoch = 8 , step = 12000, Loss = 1.495\n",
            "Epoch = 9 , step = 1000, Loss = 0.122\n",
            "Epoch = 9 , step = 2000, Loss = 0.245\n",
            "Epoch = 9 , step = 3000, Loss = 0.366\n",
            "Epoch = 9 , step = 4000, Loss = 0.488\n",
            "Epoch = 9 , step = 5000, Loss = 0.612\n",
            "Epoch = 9 , step = 6000, Loss = 0.734\n",
            "Epoch = 9 , step = 7000, Loss = 0.856\n",
            "Epoch = 9 , step = 8000, Loss = 0.978\n",
            "Epoch = 9 , step = 9000, Loss = 1.098\n",
            "Epoch = 9 , step = 10000, Loss = 1.219\n",
            "Epoch = 9 , step = 11000, Loss = 1.340\n",
            "Epoch = 9 , step = 12000, Loss = 1.464\n",
            "Finished Training\n"
          ]
        }
      ],
      "source": [
        "epoch_nums = 10 ## Number of epochs\n",
        "for epoch in range(epoch_nums):  # loop over the dataset multiple times\n",
        "    running_loss = 0.0\n",
        "    for i, data in enumerate(trainloader):\n",
        "        ## FILL HERE\n",
        "        ## You should train the model and also print the running loss for each batch\n",
        "        estimate = net(data[0])\n",
        "        loss = loss_function(estimate, data[1])\n",
        "        loss.backward()\n",
        "        optimizer.step()\n",
        "        optimizer.zero_grad()\n",
        "        running_loss += loss.item()\n",
        "        if i % 1000 == 0 and i!=0:\n",
        "          print(f\"Epoch = {epoch} , step = {i}, Loss = {running_loss/len(trainloader):.3f}\")\n",
        "print('Finished Training')"
      ],
      "id": "fbf5c8d2"
    },
    {
      "cell_type": "markdown",
      "metadata": {
        "id": "14558277"
      },
      "source": [
        "## Test the network on the test data\n",
        "\n",
        "In the following section, you should test your network and calculate the accuracy of your model on the test dataset."
      ],
      "id": "14558277"
    },
    {
      "cell_type": "code",
      "execution_count": null,
      "metadata": {
        "colab": {
          "base_uri": "https://localhost:8080/"
        },
        "id": "fb0f4803",
        "outputId": "d2147486-5f73-4fe1-e89e-9f995954a402"
      },
      "outputs": [
        {
          "output_type": "stream",
          "name": "stdout",
          "text": [
            "Accuracy of the network on the 10000 test images: 47 %\n"
          ]
        }
      ],
      "source": [
        "correct = 0\n",
        "total = 0\n",
        "# since we're not training, we don't need to calculate the gradients for our outputs\n",
        "with torch.no_grad():\n",
        "    for data in testloader:\n",
        "        ## FILL HERE\n",
        "        estimate = net(data[0])\n",
        "        _, predict = torch.max(estimate,1)\n",
        "        correct += (predict == data[1]).sum().item()\n",
        "        total += data[1].size(0)\n",
        "print(f'Accuracy of the network on the 10000 test images: {100 * correct // total} %')"
      ],
      "id": "fb0f4803"
    },
    {
      "cell_type": "markdown",
      "metadata": {
        "id": "9a90c190"
      },
      "source": [
        "Here, we also calculate the model performance for each class as well."
      ],
      "id": "9a90c190"
    },
    {
      "cell_type": "code",
      "execution_count": null,
      "metadata": {
        "id": "8afd6a24",
        "colab": {
          "base_uri": "https://localhost:8080/"
        },
        "outputId": "4969e1e2-a9b2-4574-82f2-d84b43ada53f"
      },
      "outputs": [
        {
          "output_type": "stream",
          "name": "stdout",
          "text": [
            "Accuracy for class: plane is 54.8 %\n",
            "Accuracy for class: car   is 74.1 %\n",
            "Accuracy for class: bird  is 30.0 %\n",
            "Accuracy for class: cat   is 36.3 %\n",
            "Accuracy for class: deer  is 40.3 %\n",
            "Accuracy for class: dog   is 52.4 %\n",
            "Accuracy for class: frog  is 68.1 %\n",
            "Accuracy for class: horse is 0.0 %\n",
            "Accuracy for class: ship  is 60.3 %\n",
            "Accuracy for class: truck is 56.8 %\n"
          ]
        }
      ],
      "source": [
        "# prepare to count predictions for each class\n",
        "correct_pred = {classname: 0 for classname in classes}\n",
        "total_pred = {classname: 0 for classname in classes}\n",
        "# again no gradients needed\n",
        "with torch.no_grad():\n",
        "    for data in testloader:\n",
        "        ## FILL HERE\n",
        "        estimate = net(data[0])\n",
        "        _, predict = torch.max(estimate,1)\n",
        "        for i in range(len(data[1])):\n",
        "            if predict[i] == data[1][i]:\n",
        "                correct_pred[classes[data[1][i]]] += 1\n",
        "            total_pred[classes[data[1][i]]] += 1\n",
        "# print accuracy for each class\n",
        "for classname, correct_count in correct_pred.items():\n",
        "    accuracy = 100 * float(correct_count) / total_pred[classname]\n",
        "    print(f'Accuracy for class: {classname:5s} is {accuracy:.1f} %')"
      ],
      "id": "8afd6a24"
    },
    {
      "cell_type": "code",
      "execution_count": null,
      "metadata": {
        "id": "wKxt_3-5HvqI"
      },
      "outputs": [],
      "source": [],
      "id": "wKxt_3-5HvqI"
    }
  ],
  "metadata": {
    "colab": {
      "provenance": [],
      "include_colab_link": true
    },
    "kernelspec": {
      "display_name": "Python 3",
      "language": "python",
      "name": "python3"
    },
    "language_info": {
      "codemirror_mode": {
        "name": "ipython",
        "version": 3
      },
      "file_extension": ".py",
      "mimetype": "text/x-python",
      "name": "python",
      "nbconvert_exporter": "python",
      "pygments_lexer": "ipython3",
      "version": "3.8.3"
    }
  },
  "nbformat": 4,
  "nbformat_minor": 5
}